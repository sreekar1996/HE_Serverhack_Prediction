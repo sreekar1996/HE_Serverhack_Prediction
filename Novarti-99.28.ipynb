{
 "cells": [
  {
   "cell_type": "code",
   "execution_count": 1,
   "metadata": {},
   "outputs": [],
   "source": [
    "import numpy as np # linear algebra\n",
    "import pandas as pd # data processing, CSV file I/O (e.g. pd.read_csv)\n",
    "\n",
    "# Input data files are available in the \"../input/\" directory.\n",
    "# For example, running this (by clicking run or pressing Shift+Enter) will list the files in the input directory\n",
    "\n"
   ]
  },
  {
   "cell_type": "code",
   "execution_count": 2,
   "metadata": {},
   "outputs": [],
   "source": [
    "import pandas as pd\n",
    "import numpy as np\n",
    "train=pd.read_csv('train.csv')\n",
    "test=pd.read_csv('test.csv')"
   ]
  },
  {
   "cell_type": "code",
   "execution_count": 3,
   "metadata": {},
   "outputs": [
    {
     "data": {
      "text/html": [
       "<div>\n",
       "<style scoped>\n",
       "    .dataframe tbody tr th:only-of-type {\n",
       "        vertical-align: middle;\n",
       "    }\n",
       "\n",
       "    .dataframe tbody tr th {\n",
       "        vertical-align: top;\n",
       "    }\n",
       "\n",
       "    .dataframe thead th {\n",
       "        text-align: right;\n",
       "    }\n",
       "</style>\n",
       "<table border=\"1\" class=\"dataframe\">\n",
       "  <thead>\n",
       "    <tr style=\"text-align: right;\">\n",
       "      <th></th>\n",
       "      <th>INCIDENT_ID</th>\n",
       "      <th>DATE</th>\n",
       "      <th>X_1</th>\n",
       "      <th>X_2</th>\n",
       "      <th>X_3</th>\n",
       "      <th>X_4</th>\n",
       "      <th>X_5</th>\n",
       "      <th>X_6</th>\n",
       "      <th>X_7</th>\n",
       "      <th>X_8</th>\n",
       "      <th>X_9</th>\n",
       "      <th>X_10</th>\n",
       "      <th>X_11</th>\n",
       "      <th>X_12</th>\n",
       "      <th>X_13</th>\n",
       "      <th>X_14</th>\n",
       "      <th>X_15</th>\n",
       "      <th>MULTIPLE_OFFENSE</th>\n",
       "    </tr>\n",
       "  </thead>\n",
       "  <tbody>\n",
       "    <tr>\n",
       "      <th>0</th>\n",
       "      <td>CR_102659</td>\n",
       "      <td>04-JUL-04</td>\n",
       "      <td>0</td>\n",
       "      <td>36</td>\n",
       "      <td>34</td>\n",
       "      <td>2</td>\n",
       "      <td>1</td>\n",
       "      <td>5</td>\n",
       "      <td>6</td>\n",
       "      <td>1</td>\n",
       "      <td>6</td>\n",
       "      <td>1</td>\n",
       "      <td>174</td>\n",
       "      <td>1.0</td>\n",
       "      <td>92</td>\n",
       "      <td>29</td>\n",
       "      <td>36</td>\n",
       "      <td>0</td>\n",
       "    </tr>\n",
       "    <tr>\n",
       "      <th>1</th>\n",
       "      <td>CR_189752</td>\n",
       "      <td>18-JUL-17</td>\n",
       "      <td>1</td>\n",
       "      <td>37</td>\n",
       "      <td>37</td>\n",
       "      <td>0</td>\n",
       "      <td>0</td>\n",
       "      <td>11</td>\n",
       "      <td>17</td>\n",
       "      <td>1</td>\n",
       "      <td>6</td>\n",
       "      <td>1</td>\n",
       "      <td>236</td>\n",
       "      <td>1.0</td>\n",
       "      <td>103</td>\n",
       "      <td>142</td>\n",
       "      <td>34</td>\n",
       "      <td>1</td>\n",
       "    </tr>\n",
       "    <tr>\n",
       "      <th>2</th>\n",
       "      <td>CR_184637</td>\n",
       "      <td>15-MAR-17</td>\n",
       "      <td>0</td>\n",
       "      <td>3</td>\n",
       "      <td>2</td>\n",
       "      <td>3</td>\n",
       "      <td>5</td>\n",
       "      <td>1</td>\n",
       "      <td>0</td>\n",
       "      <td>2</td>\n",
       "      <td>3</td>\n",
       "      <td>1</td>\n",
       "      <td>174</td>\n",
       "      <td>1.0</td>\n",
       "      <td>110</td>\n",
       "      <td>93</td>\n",
       "      <td>34</td>\n",
       "      <td>1</td>\n",
       "    </tr>\n",
       "    <tr>\n",
       "      <th>3</th>\n",
       "      <td>CR_139071</td>\n",
       "      <td>13-FEB-09</td>\n",
       "      <td>0</td>\n",
       "      <td>33</td>\n",
       "      <td>32</td>\n",
       "      <td>2</td>\n",
       "      <td>1</td>\n",
       "      <td>7</td>\n",
       "      <td>1</td>\n",
       "      <td>1</td>\n",
       "      <td>6</td>\n",
       "      <td>1</td>\n",
       "      <td>249</td>\n",
       "      <td>1.0</td>\n",
       "      <td>72</td>\n",
       "      <td>29</td>\n",
       "      <td>34</td>\n",
       "      <td>1</td>\n",
       "    </tr>\n",
       "    <tr>\n",
       "      <th>4</th>\n",
       "      <td>CR_109335</td>\n",
       "      <td>13-APR-05</td>\n",
       "      <td>0</td>\n",
       "      <td>33</td>\n",
       "      <td>32</td>\n",
       "      <td>2</td>\n",
       "      <td>1</td>\n",
       "      <td>8</td>\n",
       "      <td>3</td>\n",
       "      <td>0</td>\n",
       "      <td>5</td>\n",
       "      <td>1</td>\n",
       "      <td>174</td>\n",
       "      <td>0.0</td>\n",
       "      <td>112</td>\n",
       "      <td>29</td>\n",
       "      <td>43</td>\n",
       "      <td>1</td>\n",
       "    </tr>\n",
       "  </tbody>\n",
       "</table>\n",
       "</div>"
      ],
      "text/plain": [
       "  INCIDENT_ID       DATE  X_1  X_2  X_3  X_4  X_5  X_6  X_7  X_8  X_9  X_10  \\\n",
       "0   CR_102659  04-JUL-04    0   36   34    2    1    5    6    1    6     1   \n",
       "1   CR_189752  18-JUL-17    1   37   37    0    0   11   17    1    6     1   \n",
       "2   CR_184637  15-MAR-17    0    3    2    3    5    1    0    2    3     1   \n",
       "3   CR_139071  13-FEB-09    0   33   32    2    1    7    1    1    6     1   \n",
       "4   CR_109335  13-APR-05    0   33   32    2    1    8    3    0    5     1   \n",
       "\n",
       "   X_11  X_12  X_13  X_14  X_15  MULTIPLE_OFFENSE  \n",
       "0   174   1.0    92    29    36                 0  \n",
       "1   236   1.0   103   142    34                 1  \n",
       "2   174   1.0   110    93    34                 1  \n",
       "3   249   1.0    72    29    34                 1  \n",
       "4   174   0.0   112    29    43                 1  "
      ]
     },
     "execution_count": 3,
     "metadata": {},
     "output_type": "execute_result"
    }
   ],
   "source": [
    "train.head()"
   ]
  },
  {
   "cell_type": "code",
   "execution_count": 4,
   "metadata": {},
   "outputs": [],
   "source": [
    "#!pip install sklearn"
   ]
  },
  {
   "cell_type": "code",
   "execution_count": 5,
   "metadata": {},
   "outputs": [
    {
     "data": {
      "image/png": "[encoded data removed]",
      "text/plain": [
       "<Figure size 432x288 with 1 Axes>"
      ]
     },
     "metadata": {
      "needs_background": "light"
     },
     "output_type": "display_data"
    }
   ],
   "source": [
    "import matplotlib.pyplot as plt\n",
    "plt.hist(train[\"X_7\"])\n",
    "plt.show()"
   ]
  },
  {
   "cell_type": "code",
   "execution_count": 6,
   "metadata": {},
   "outputs": [
    {
     "data": {
      "image/png": "[encoded data removed]",
      "text/plain": [
       "<Figure size 432x288 with 1 Axes>"
      ]
     },
     "metadata": {
      "needs_background": "light"
     },
     "output_type": "display_data"
    }
   ],
   "source": [
    "import matplotlib.pyplot as plt\n",
    "plt.hist(test[\"X_7\"])\n",
    "plt.show()"
   ]
  },
  {
   "cell_type": "code",
   "execution_count": 7,
   "metadata": {},
   "outputs": [
    {
     "data": {
      "image/png": "[encoded data removed]",
      "text/plain": [
       "<Figure size 360x360 with 1 Axes>"
      ]
     },
     "metadata": {
      "needs_background": "light"
     },
     "output_type": "display_data"
    }
   ],
   "source": [
    "import seaborn as sns\n",
    "sns.catplot(x=\"MULTIPLE_OFFENSE\", y=\"X_1\", kind=\"box\", data=train);"
   ]
  },
  {
   "cell_type": "code",
   "execution_count": 8,
   "metadata": {},
   "outputs": [
    {
     "data": {
      "image/png": "[encoded data removed]",
      "text/plain": [
       "<Figure size 360x360 with 1 Axes>"
      ]
     },
     "metadata": {
      "needs_background": "light"
     },
     "output_type": "display_data"
    }
   ],
   "source": [
    "sns.catplot(x=\"MULTIPLE_OFFENSE\", y=\"X_2\", kind=\"box\", data=train);"
   ]
  },
  {
   "cell_type": "code",
   "execution_count": 9,
   "metadata": {},
   "outputs": [
    {
     "data": {
      "image/png": "[encoded data removed]",
      "text/plain": [
       "<Figure size 360x360 with 1 Axes>"
      ]
     },
     "metadata": {
      "needs_background": "light"
     },
     "output_type": "display_data"
    }
   ],
   "source": [
    "sns.catplot(x=\"MULTIPLE_OFFENSE\", y=\"X_3\", kind=\"box\", data=train);"
   ]
  },
  {
   "cell_type": "code",
   "execution_count": 10,
   "metadata": {},
   "outputs": [
    {
     "data": {
      "text/plain": [
       "<seaborn.axisgrid.FacetGrid at 0x1dfaea7f588>"
      ]
     },
     "execution_count": 10,
     "metadata": {},
     "output_type": "execute_result"
    },
    {
     "data": {
      "image/png": "[encoded data removed]",
      "text/plain": [
       "<Figure size 360x360 with 1 Axes>"
      ]
     },
     "metadata": {
      "needs_background": "light"
     },
     "output_type": "display_data"
    }
   ],
   "source": [
    "sns.catplot(x=\"MULTIPLE_OFFENSE\", y=\"X_4\", kind=\"box\", data=train)"
   ]
  },
  {
   "cell_type": "code",
   "execution_count": 11,
   "metadata": {},
   "outputs": [
    {
     "data": {
      "text/plain": [
       "<seaborn.axisgrid.FacetGrid at 0x1dfaea7f988>"
      ]
     },
     "execution_count": 11,
     "metadata": {},
     "output_type": "execute_result"
    },
    {
     "data": {
      "image/png": "[encoded data removed]",
      "text/plain": [
       "<Figure size 360x360 with 1 Axes>"
      ]
     },
     "metadata": {
      "needs_background": "light"
     },
     "output_type": "display_data"
    }
   ],
   "source": [
    "sns.catplot(x=\"MULTIPLE_OFFENSE\", y=\"X_5\", kind=\"box\", data=train)"
   ]
  },
  {
   "cell_type": "code",
   "execution_count": 12,
   "metadata": {},
   "outputs": [
    {
     "data": {
      "text/plain": [
       "<seaborn.axisgrid.FacetGrid at 0x1dfaead2e88>"
      ]
     },
     "execution_count": 12,
     "metadata": {},
     "output_type": "execute_result"
    },
    {
     "data": {
      "image/png": "[encoded data removed]",
      "text/plain": [
       "<Figure size 360x360 with 1 Axes>"
      ]
     },
     "metadata": {
      "needs_background": "light"
     },
     "output_type": "display_data"
    }
   ],
   "source": [
    "sns.catplot(x=\"MULTIPLE_OFFENSE\", y=\"X_6\", kind=\"box\", data=train)"
   ]
  },
  {
   "cell_type": "code",
   "execution_count": 14,
   "metadata": {},
   "outputs": [],
   "source": [
    "#sns.catplot(x=\"MULTIPLE_OFFENSE\", y=\"X_10\", kind=\"swarm\", data=train)"
   ]
  },
  {
   "cell_type": "code",
   "execution_count": null,
   "metadata": {},
   "outputs": [],
   "source": [
    "#8,10,11,12,15"
   ]
  },
  {
   "cell_type": "code",
   "execution_count": null,
   "metadata": {},
   "outputs": [],
   "source": [
    "sns.catplot(x=\"total_bill\",y=\"day\",hue=\"time\", kind=\"swarm\", data=tips);"
   ]
  },
  {
   "cell_type": "code",
   "execution_count": null,
   "metadata": {},
   "outputs": [],
   "source": []
  },
  {
   "cell_type": "code",
   "execution_count": null,
   "metadata": {},
   "outputs": [],
   "source": []
  },
  {
   "cell_type": "code",
   "execution_count": 6,
   "metadata": {},
   "outputs": [
    {
     "ename": "ImportError",
     "evalue": "cannot import name 'Imputer' from 'sklearn.preprocessing' (C:\\Users\\A801518\\AppData\\Local\\Continuum\\anaconda3\\lib\\site-packages\\sklearn\\preprocessing\\__init__.py)",
     "output_type": "error",
     "traceback": [
      "\u001b[1;31m---------------------------------------------------------------------------\u001b[0m",
      "\u001b[1;31mImportError\u001b[0m                               Traceback (most recent call last)",
      "\u001b[1;32m<ipython-input-6-065a7ced7389>\u001b[0m in \u001b[0;36m<module>\u001b[1;34m\u001b[0m\n\u001b[0;32m      1\u001b[0m \u001b[1;31m#train.isnull().sum()\u001b[0m\u001b[1;33m\u001b[0m\u001b[1;33m\u001b[0m\u001b[1;33m\u001b[0m\u001b[0m\n\u001b[1;32m----> 2\u001b[1;33m \u001b[1;32mfrom\u001b[0m \u001b[0msklearn\u001b[0m\u001b[1;33m.\u001b[0m\u001b[0mpreprocessing\u001b[0m \u001b[1;32mimport\u001b[0m \u001b[0mImputer\u001b[0m\u001b[1;33m\u001b[0m\u001b[1;33m\u001b[0m\u001b[0m\n\u001b[0m",
      "\u001b[1;31mImportError\u001b[0m: cannot import name 'Imputer' from 'sklearn.preprocessing' (C:\\Users\\A801518\\AppData\\Local\\Continuum\\anaconda3\\lib\\site-packages\\sklearn\\preprocessing\\__init__.py)"
     ]
    }
   ],
   "source": [
    "#train.isnull().sum()\n",
    "from sklearn.preprocessing import Imputer"
   ]
  },
  {
   "cell_type": "code",
   "execution_count": null,
   "metadata": {},
   "outputs": [],
   "source": [
    "from sklearn.preprocessing import Imputer\n",
    "\n",
    "#df = df.drop('class', axis=1)\n",
    "\n",
    "imputer = Imputer(missing_values=np.nan, strategy='median', axis=0)\n",
    "train[[\"X_12\"]] = imputer.fit_transform(train[[\"X_12\"]])"
   ]
  },
  {
   "cell_type": "code",
   "execution_count": null,
   "metadata": {},
   "outputs": [],
   "source": [
    "#train.isnull().sum()"
   ]
  },
  {
   "cell_type": "code",
   "execution_count": 6,
   "metadata": {},
   "outputs": [
    {
     "data": {
      "text/plain": [
       "(23856, 18)"
      ]
     },
     "execution_count": 6,
     "metadata": {},
     "output_type": "execute_result"
    }
   ],
   "source": [
    "train.shape"
   ]
  },
  {
   "cell_type": "code",
   "execution_count": 41,
   "metadata": {},
   "outputs": [
    {
     "data": {
      "text/html": [
       "<div>\n",
       "<style scoped>\n",
       "    .dataframe tbody tr th:only-of-type {\n",
       "        vertical-align: middle;\n",
       "    }\n",
       "\n",
       "    .dataframe tbody tr th {\n",
       "        vertical-align: top;\n",
       "    }\n",
       "\n",
       "    .dataframe thead th {\n",
       "        text-align: right;\n",
       "    }\n",
       "</style>\n",
       "<table border=\"1\" class=\"dataframe\">\n",
       "  <thead>\n",
       "    <tr style=\"text-align: right;\">\n",
       "      <th></th>\n",
       "      <th>DATE</th>\n",
       "      <th>INCIDENT_ID</th>\n",
       "      <th>MULTIPLE_OFFENSE</th>\n",
       "      <th>X_1</th>\n",
       "      <th>X_10</th>\n",
       "      <th>X_11</th>\n",
       "      <th>X_12</th>\n",
       "      <th>X_13</th>\n",
       "      <th>X_14</th>\n",
       "      <th>X_15</th>\n",
       "      <th>...</th>\n",
       "      <th>X_6</th>\n",
       "      <th>X_7</th>\n",
       "      <th>X_8</th>\n",
       "      <th>X_9</th>\n",
       "      <th>sum</th>\n",
       "      <th>max</th>\n",
       "      <th>mean</th>\n",
       "      <th>std</th>\n",
       "      <th>skew</th>\n",
       "      <th>kurt</th>\n",
       "    </tr>\n",
       "  </thead>\n",
       "  <tbody>\n",
       "    <tr>\n",
       "      <th>0</th>\n",
       "      <td>01-FEB-18</td>\n",
       "      <td>CR_195453</td>\n",
       "      <td>NaN</td>\n",
       "      <td>0</td>\n",
       "      <td>1</td>\n",
       "      <td>174</td>\n",
       "      <td>NaN</td>\n",
       "      <td>72</td>\n",
       "      <td>119</td>\n",
       "      <td>23</td>\n",
       "      <td>...</td>\n",
       "      <td>6</td>\n",
       "      <td>4</td>\n",
       "      <td>0</td>\n",
       "      <td>5</td>\n",
       "      <td>474.0</td>\n",
       "      <td>174.0</td>\n",
       "      <td>36.461538</td>\n",
       "      <td>54.085758</td>\n",
       "      <td>1.829582</td>\n",
       "      <td>2.759173</td>\n",
       "    </tr>\n",
       "    <tr>\n",
       "      <th>1</th>\n",
       "      <td>05-MAR-04</td>\n",
       "      <td>CR_103520</td>\n",
       "      <td>NaN</td>\n",
       "      <td>0</td>\n",
       "      <td>1</td>\n",
       "      <td>316</td>\n",
       "      <td>0.0</td>\n",
       "      <td>12</td>\n",
       "      <td>29</td>\n",
       "      <td>34</td>\n",
       "      <td>...</td>\n",
       "      <td>7</td>\n",
       "      <td>1</td>\n",
       "      <td>4</td>\n",
       "      <td>6</td>\n",
       "      <td>496.0</td>\n",
       "      <td>316.0</td>\n",
       "      <td>35.428571</td>\n",
       "      <td>82.449718</td>\n",
       "      <td>3.486586</td>\n",
       "      <td>12.597067</td>\n",
       "    </tr>\n",
       "    <tr>\n",
       "      <th>2</th>\n",
       "      <td>27-JAN-18</td>\n",
       "      <td>CR_196089</td>\n",
       "      <td>NaN</td>\n",
       "      <td>0</td>\n",
       "      <td>1</td>\n",
       "      <td>316</td>\n",
       "      <td>1.0</td>\n",
       "      <td>72</td>\n",
       "      <td>0</td>\n",
       "      <td>34</td>\n",
       "      <td>...</td>\n",
       "      <td>2</td>\n",
       "      <td>7</td>\n",
       "      <td>3</td>\n",
       "      <td>0</td>\n",
       "      <td>511.0</td>\n",
       "      <td>316.0</td>\n",
       "      <td>36.500000</td>\n",
       "      <td>83.153010</td>\n",
       "      <td>3.358914</td>\n",
       "      <td>11.816214</td>\n",
       "    </tr>\n",
       "    <tr>\n",
       "      <th>3</th>\n",
       "      <td>18-AUG-06</td>\n",
       "      <td>CR_112195</td>\n",
       "      <td>NaN</td>\n",
       "      <td>7</td>\n",
       "      <td>1</td>\n",
       "      <td>174</td>\n",
       "      <td>1.0</td>\n",
       "      <td>112</td>\n",
       "      <td>87</td>\n",
       "      <td>34</td>\n",
       "      <td>...</td>\n",
       "      <td>9</td>\n",
       "      <td>8</td>\n",
       "      <td>0</td>\n",
       "      <td>5</td>\n",
       "      <td>446.0</td>\n",
       "      <td>174.0</td>\n",
       "      <td>31.857143</td>\n",
       "      <td>53.765670</td>\n",
       "      <td>1.921840</td>\n",
       "      <td>2.972539</td>\n",
       "    </tr>\n",
       "    <tr>\n",
       "      <th>4</th>\n",
       "      <td>31-OCT-11</td>\n",
       "      <td>CR_149832</td>\n",
       "      <td>NaN</td>\n",
       "      <td>0</td>\n",
       "      <td>1</td>\n",
       "      <td>174</td>\n",
       "      <td>0.0</td>\n",
       "      <td>112</td>\n",
       "      <td>93</td>\n",
       "      <td>43</td>\n",
       "      <td>...</td>\n",
       "      <td>2</td>\n",
       "      <td>7</td>\n",
       "      <td>1</td>\n",
       "      <td>5</td>\n",
       "      <td>458.0</td>\n",
       "      <td>174.0</td>\n",
       "      <td>32.714286</td>\n",
       "      <td>54.463013</td>\n",
       "      <td>1.824188</td>\n",
       "      <td>2.541538</td>\n",
       "    </tr>\n",
       "  </tbody>\n",
       "</table>\n",
       "<p>5 rows × 24 columns</p>\n",
       "</div>"
      ],
      "text/plain": [
       "        DATE INCIDENT_ID  MULTIPLE_OFFENSE  X_1  X_10  X_11  X_12  X_13  X_14  \\\n",
       "0  01-FEB-18   CR_195453               NaN    0     1   174   NaN    72   119   \n",
       "1  05-MAR-04   CR_103520               NaN    0     1   316   0.0    12    29   \n",
       "2  27-JAN-18   CR_196089               NaN    0     1   316   1.0    72     0   \n",
       "3  18-AUG-06   CR_112195               NaN    7     1   174   1.0   112    87   \n",
       "4  31-OCT-11   CR_149832               NaN    0     1   174   0.0   112    93   \n",
       "\n",
       "   X_15  ...  X_6  X_7  X_8  X_9    sum    max       mean        std  \\\n",
       "0    23  ...    6    4    0    5  474.0  174.0  36.461538  54.085758   \n",
       "1    34  ...    7    1    4    6  496.0  316.0  35.428571  82.449718   \n",
       "2    34  ...    2    7    3    0  511.0  316.0  36.500000  83.153010   \n",
       "3    34  ...    9    8    0    5  446.0  174.0  31.857143  53.765670   \n",
       "4    43  ...    2    7    1    5  458.0  174.0  32.714286  54.463013   \n",
       "\n",
       "       skew       kurt  \n",
       "0  1.829582   2.759173  \n",
       "1  3.486586  12.597067  \n",
       "2  3.358914  11.816214  \n",
       "3  1.921840   2.972539  \n",
       "4  1.824188   2.541538  \n",
       "\n",
       "[5 rows x 24 columns]"
      ]
     },
     "execution_count": 41,
     "metadata": {},
     "output_type": "execute_result"
    }
   ],
   "source": [
    "test.head()"
   ]
  },
  {
   "cell_type": "code",
   "execution_count": 42,
   "metadata": {},
   "outputs": [
    {
     "data": {
      "text/plain": [
       "(15903, 24)"
      ]
     },
     "execution_count": 42,
     "metadata": {},
     "output_type": "execute_result"
    }
   ],
   "source": [
    "test.shape"
   ]
  },
  {
   "cell_type": "code",
   "execution_count": 43,
   "metadata": {},
   "outputs": [
    {
     "data": {
      "text/plain": [
       "(39759, 24)"
      ]
     },
     "execution_count": 43,
     "metadata": {},
     "output_type": "execute_result"
    }
   ],
   "source": [
    "merged = pd.concat([train, test])\n",
    "#Saving the list of original features in a new list `original_features`.\n",
    "original_features = merged.columns\n",
    "merged.shape"
   ]
  },
  {
   "cell_type": "code",
   "execution_count": 44,
   "metadata": {},
   "outputs": [
    {
     "data": {
      "text/plain": [
       "<matplotlib.axes._subplots.AxesSubplot at 0x138136c8780>"
      ]
     },
     "execution_count": 44,
     "metadata": {},
     "output_type": "execute_result"
    },
    {
     "data": {
      "image/png": "[encoded data removed]",
      "text/plain": [
       "<Figure size 432x288 with 1 Axes>"
      ]
     },
     "metadata": {
      "needs_background": "light"
     },
     "output_type": "display_data"
    }
   ],
   "source": [
    "from matplotlib import *\n",
    "import matplotlib.pyplot as plt\n",
    "train.MULTIPLE_OFFENSE.value_counts().plot(kind=\"bar\")"
   ]
  },
  {
   "cell_type": "code",
   "execution_count": 45,
   "metadata": {},
   "outputs": [],
   "source": [
    "idx = features = merged.columns.values[0:17]\n",
    "for df in [merged]:\n",
    "    df['sum'] = df[idx].sum(axis=1)  \n",
    "    df['max'] = df[idx].max(axis=1)\n",
    "    df['mean'] = df[idx].mean(axis=1)\n",
    "    df['std'] = df[idx].std(axis=1)\n",
    "    df['skew'] = df[idx].skew(axis=1)\n",
    "    df['kurt'] = df[idx].kurtosis(axis=1)"
   ]
  },
  {
   "cell_type": "code",
   "execution_count": 46,
   "metadata": {},
   "outputs": [
    {
     "data": {
      "text/html": [
       "<div>\n",
       "<style scoped>\n",
       "    .dataframe tbody tr th:only-of-type {\n",
       "        vertical-align: middle;\n",
       "    }\n",
       "\n",
       "    .dataframe tbody tr th {\n",
       "        vertical-align: top;\n",
       "    }\n",
       "\n",
       "    .dataframe thead th {\n",
       "        text-align: right;\n",
       "    }\n",
       "</style>\n",
       "<table border=\"1\" class=\"dataframe\">\n",
       "  <thead>\n",
       "    <tr style=\"text-align: right;\">\n",
       "      <th></th>\n",
       "      <th>DATE</th>\n",
       "      <th>INCIDENT_ID</th>\n",
       "      <th>MULTIPLE_OFFENSE</th>\n",
       "      <th>X_1</th>\n",
       "      <th>X_10</th>\n",
       "      <th>X_11</th>\n",
       "      <th>X_12</th>\n",
       "      <th>X_13</th>\n",
       "      <th>X_14</th>\n",
       "      <th>X_15</th>\n",
       "      <th>...</th>\n",
       "      <th>X_6</th>\n",
       "      <th>X_7</th>\n",
       "      <th>X_8</th>\n",
       "      <th>X_9</th>\n",
       "      <th>sum</th>\n",
       "      <th>max</th>\n",
       "      <th>mean</th>\n",
       "      <th>std</th>\n",
       "      <th>skew</th>\n",
       "      <th>kurt</th>\n",
       "    </tr>\n",
       "  </thead>\n",
       "  <tbody>\n",
       "    <tr>\n",
       "      <th>0</th>\n",
       "      <td>04-JUL-04</td>\n",
       "      <td>CR_102659</td>\n",
       "      <td>0.0</td>\n",
       "      <td>0</td>\n",
       "      <td>1</td>\n",
       "      <td>174</td>\n",
       "      <td>1.0</td>\n",
       "      <td>92</td>\n",
       "      <td>29</td>\n",
       "      <td>36</td>\n",
       "      <td>...</td>\n",
       "      <td>5</td>\n",
       "      <td>6</td>\n",
       "      <td>1</td>\n",
       "      <td>6</td>\n",
       "      <td>418.0</td>\n",
       "      <td>174.0</td>\n",
       "      <td>27.866667</td>\n",
       "      <td>47.621824</td>\n",
       "      <td>2.461261</td>\n",
       "      <td>6.426920</td>\n",
       "    </tr>\n",
       "    <tr>\n",
       "      <th>1</th>\n",
       "      <td>18-JUL-17</td>\n",
       "      <td>CR_189752</td>\n",
       "      <td>1.0</td>\n",
       "      <td>1</td>\n",
       "      <td>1</td>\n",
       "      <td>236</td>\n",
       "      <td>1.0</td>\n",
       "      <td>103</td>\n",
       "      <td>142</td>\n",
       "      <td>34</td>\n",
       "      <td>...</td>\n",
       "      <td>11</td>\n",
       "      <td>17</td>\n",
       "      <td>1</td>\n",
       "      <td>6</td>\n",
       "      <td>622.0</td>\n",
       "      <td>236.0</td>\n",
       "      <td>41.466667</td>\n",
       "      <td>68.131036</td>\n",
       "      <td>2.109187</td>\n",
       "      <td>4.233544</td>\n",
       "    </tr>\n",
       "    <tr>\n",
       "      <th>2</th>\n",
       "      <td>15-MAR-17</td>\n",
       "      <td>CR_184637</td>\n",
       "      <td>1.0</td>\n",
       "      <td>0</td>\n",
       "      <td>1</td>\n",
       "      <td>174</td>\n",
       "      <td>1.0</td>\n",
       "      <td>110</td>\n",
       "      <td>93</td>\n",
       "      <td>34</td>\n",
       "      <td>...</td>\n",
       "      <td>1</td>\n",
       "      <td>0</td>\n",
       "      <td>2</td>\n",
       "      <td>3</td>\n",
       "      <td>430.0</td>\n",
       "      <td>174.0</td>\n",
       "      <td>28.666667</td>\n",
       "      <td>53.391635</td>\n",
       "      <td>1.980445</td>\n",
       "      <td>3.166691</td>\n",
       "    </tr>\n",
       "    <tr>\n",
       "      <th>3</th>\n",
       "      <td>13-FEB-09</td>\n",
       "      <td>CR_139071</td>\n",
       "      <td>1.0</td>\n",
       "      <td>0</td>\n",
       "      <td>1</td>\n",
       "      <td>249</td>\n",
       "      <td>1.0</td>\n",
       "      <td>72</td>\n",
       "      <td>29</td>\n",
       "      <td>34</td>\n",
       "      <td>...</td>\n",
       "      <td>7</td>\n",
       "      <td>1</td>\n",
       "      <td>1</td>\n",
       "      <td>6</td>\n",
       "      <td>464.0</td>\n",
       "      <td>249.0</td>\n",
       "      <td>30.933333</td>\n",
       "      <td>63.808269</td>\n",
       "      <td>3.239211</td>\n",
       "      <td>11.284662</td>\n",
       "    </tr>\n",
       "    <tr>\n",
       "      <th>4</th>\n",
       "      <td>13-APR-05</td>\n",
       "      <td>CR_109335</td>\n",
       "      <td>1.0</td>\n",
       "      <td>0</td>\n",
       "      <td>1</td>\n",
       "      <td>174</td>\n",
       "      <td>0.0</td>\n",
       "      <td>112</td>\n",
       "      <td>29</td>\n",
       "      <td>43</td>\n",
       "      <td>...</td>\n",
       "      <td>8</td>\n",
       "      <td>3</td>\n",
       "      <td>0</td>\n",
       "      <td>5</td>\n",
       "      <td>439.0</td>\n",
       "      <td>174.0</td>\n",
       "      <td>29.266667</td>\n",
       "      <td>49.896273</td>\n",
       "      <td>2.262283</td>\n",
       "      <td>4.936534</td>\n",
       "    </tr>\n",
       "  </tbody>\n",
       "</table>\n",
       "<p>5 rows × 24 columns</p>\n",
       "</div>"
      ],
      "text/plain": [
       "        DATE INCIDENT_ID  MULTIPLE_OFFENSE  X_1  X_10  X_11  X_12  X_13  X_14  \\\n",
       "0  04-JUL-04   CR_102659               0.0    0     1   174   1.0    92    29   \n",
       "1  18-JUL-17   CR_189752               1.0    1     1   236   1.0   103   142   \n",
       "2  15-MAR-17   CR_184637               1.0    0     1   174   1.0   110    93   \n",
       "3  13-FEB-09   CR_139071               1.0    0     1   249   1.0    72    29   \n",
       "4  13-APR-05   CR_109335               1.0    0     1   174   0.0   112    29   \n",
       "\n",
       "   X_15  ...  X_6  X_7  X_8  X_9    sum    max       mean        std  \\\n",
       "0    36  ...    5    6    1    6  418.0  174.0  27.866667  47.621824   \n",
       "1    34  ...   11   17    1    6  622.0  236.0  41.466667  68.131036   \n",
       "2    34  ...    1    0    2    3  430.0  174.0  28.666667  53.391635   \n",
       "3    34  ...    7    1    1    6  464.0  249.0  30.933333  63.808269   \n",
       "4    43  ...    8    3    0    5  439.0  174.0  29.266667  49.896273   \n",
       "\n",
       "       skew       kurt  \n",
       "0  2.461261   6.426920  \n",
       "1  2.109187   4.233544  \n",
       "2  1.980445   3.166691  \n",
       "3  3.239211  11.284662  \n",
       "4  2.262283   4.936534  \n",
       "\n",
       "[5 rows x 24 columns]"
      ]
     },
     "execution_count": 46,
     "metadata": {},
     "output_type": "execute_result"
    }
   ],
   "source": [
    "df.head()"
   ]
  },
  {
   "cell_type": "code",
   "execution_count": null,
   "metadata": {},
   "outputs": [],
   "source": []
  },
  {
   "cell_type": "code",
   "execution_count": null,
   "metadata": {},
   "outputs": [],
   "source": []
  },
  {
   "cell_type": "code",
   "execution_count": null,
   "metadata": {},
   "outputs": [],
   "source": []
  },
  {
   "cell_type": "code",
   "execution_count": 47,
   "metadata": {},
   "outputs": [
    {
     "data": {
      "text/html": [
       "<div>\n",
       "<style scoped>\n",
       "    .dataframe tbody tr th:only-of-type {\n",
       "        vertical-align: middle;\n",
       "    }\n",
       "\n",
       "    .dataframe tbody tr th {\n",
       "        vertical-align: top;\n",
       "    }\n",
       "\n",
       "    .dataframe thead th {\n",
       "        text-align: right;\n",
       "    }\n",
       "</style>\n",
       "<table border=\"1\" class=\"dataframe\">\n",
       "  <thead>\n",
       "    <tr style=\"text-align: right;\">\n",
       "      <th></th>\n",
       "      <th>DATE</th>\n",
       "      <th>INCIDENT_ID</th>\n",
       "      <th>MULTIPLE_OFFENSE</th>\n",
       "      <th>X_1</th>\n",
       "      <th>X_10</th>\n",
       "      <th>X_11</th>\n",
       "      <th>X_12</th>\n",
       "      <th>X_13</th>\n",
       "      <th>X_14</th>\n",
       "      <th>X_15</th>\n",
       "      <th>...</th>\n",
       "      <th>X_6</th>\n",
       "      <th>X_7</th>\n",
       "      <th>X_8</th>\n",
       "      <th>X_9</th>\n",
       "      <th>sum</th>\n",
       "      <th>max</th>\n",
       "      <th>mean</th>\n",
       "      <th>std</th>\n",
       "      <th>skew</th>\n",
       "      <th>kurt</th>\n",
       "    </tr>\n",
       "  </thead>\n",
       "  <tbody>\n",
       "    <tr>\n",
       "      <th>0</th>\n",
       "      <td>04-JUL-04</td>\n",
       "      <td>CR_102659</td>\n",
       "      <td>0.0</td>\n",
       "      <td>0</td>\n",
       "      <td>1</td>\n",
       "      <td>174</td>\n",
       "      <td>1.0</td>\n",
       "      <td>92</td>\n",
       "      <td>29</td>\n",
       "      <td>36</td>\n",
       "      <td>...</td>\n",
       "      <td>5</td>\n",
       "      <td>6</td>\n",
       "      <td>1</td>\n",
       "      <td>6</td>\n",
       "      <td>418.0</td>\n",
       "      <td>174.0</td>\n",
       "      <td>27.866667</td>\n",
       "      <td>47.621824</td>\n",
       "      <td>2.461261</td>\n",
       "      <td>6.426920</td>\n",
       "    </tr>\n",
       "    <tr>\n",
       "      <th>1</th>\n",
       "      <td>18-JUL-17</td>\n",
       "      <td>CR_189752</td>\n",
       "      <td>1.0</td>\n",
       "      <td>1</td>\n",
       "      <td>1</td>\n",
       "      <td>236</td>\n",
       "      <td>1.0</td>\n",
       "      <td>103</td>\n",
       "      <td>142</td>\n",
       "      <td>34</td>\n",
       "      <td>...</td>\n",
       "      <td>11</td>\n",
       "      <td>17</td>\n",
       "      <td>1</td>\n",
       "      <td>6</td>\n",
       "      <td>622.0</td>\n",
       "      <td>236.0</td>\n",
       "      <td>41.466667</td>\n",
       "      <td>68.131036</td>\n",
       "      <td>2.109187</td>\n",
       "      <td>4.233544</td>\n",
       "    </tr>\n",
       "    <tr>\n",
       "      <th>2</th>\n",
       "      <td>15-MAR-17</td>\n",
       "      <td>CR_184637</td>\n",
       "      <td>1.0</td>\n",
       "      <td>0</td>\n",
       "      <td>1</td>\n",
       "      <td>174</td>\n",
       "      <td>1.0</td>\n",
       "      <td>110</td>\n",
       "      <td>93</td>\n",
       "      <td>34</td>\n",
       "      <td>...</td>\n",
       "      <td>1</td>\n",
       "      <td>0</td>\n",
       "      <td>2</td>\n",
       "      <td>3</td>\n",
       "      <td>430.0</td>\n",
       "      <td>174.0</td>\n",
       "      <td>28.666667</td>\n",
       "      <td>53.391635</td>\n",
       "      <td>1.980445</td>\n",
       "      <td>3.166691</td>\n",
       "    </tr>\n",
       "    <tr>\n",
       "      <th>3</th>\n",
       "      <td>13-FEB-09</td>\n",
       "      <td>CR_139071</td>\n",
       "      <td>1.0</td>\n",
       "      <td>0</td>\n",
       "      <td>1</td>\n",
       "      <td>249</td>\n",
       "      <td>1.0</td>\n",
       "      <td>72</td>\n",
       "      <td>29</td>\n",
       "      <td>34</td>\n",
       "      <td>...</td>\n",
       "      <td>7</td>\n",
       "      <td>1</td>\n",
       "      <td>1</td>\n",
       "      <td>6</td>\n",
       "      <td>464.0</td>\n",
       "      <td>249.0</td>\n",
       "      <td>30.933333</td>\n",
       "      <td>63.808269</td>\n",
       "      <td>3.239211</td>\n",
       "      <td>11.284662</td>\n",
       "    </tr>\n",
       "    <tr>\n",
       "      <th>4</th>\n",
       "      <td>13-APR-05</td>\n",
       "      <td>CR_109335</td>\n",
       "      <td>1.0</td>\n",
       "      <td>0</td>\n",
       "      <td>1</td>\n",
       "      <td>174</td>\n",
       "      <td>0.0</td>\n",
       "      <td>112</td>\n",
       "      <td>29</td>\n",
       "      <td>43</td>\n",
       "      <td>...</td>\n",
       "      <td>8</td>\n",
       "      <td>3</td>\n",
       "      <td>0</td>\n",
       "      <td>5</td>\n",
       "      <td>439.0</td>\n",
       "      <td>174.0</td>\n",
       "      <td>29.266667</td>\n",
       "      <td>49.896273</td>\n",
       "      <td>2.262283</td>\n",
       "      <td>4.936534</td>\n",
       "    </tr>\n",
       "  </tbody>\n",
       "</table>\n",
       "<p>5 rows × 24 columns</p>\n",
       "</div>"
      ],
      "text/plain": [
       "        DATE INCIDENT_ID  MULTIPLE_OFFENSE  X_1  X_10  X_11  X_12  X_13  X_14  \\\n",
       "0  04-JUL-04   CR_102659               0.0    0     1   174   1.0    92    29   \n",
       "1  18-JUL-17   CR_189752               1.0    1     1   236   1.0   103   142   \n",
       "2  15-MAR-17   CR_184637               1.0    0     1   174   1.0   110    93   \n",
       "3  13-FEB-09   CR_139071               1.0    0     1   249   1.0    72    29   \n",
       "4  13-APR-05   CR_109335               1.0    0     1   174   0.0   112    29   \n",
       "\n",
       "   X_15  ...  X_6  X_7  X_8  X_9    sum    max       mean        std  \\\n",
       "0    36  ...    5    6    1    6  418.0  174.0  27.866667  47.621824   \n",
       "1    34  ...   11   17    1    6  622.0  236.0  41.466667  68.131036   \n",
       "2    34  ...    1    0    2    3  430.0  174.0  28.666667  53.391635   \n",
       "3    34  ...    7    1    1    6  464.0  249.0  30.933333  63.808269   \n",
       "4    43  ...    8    3    0    5  439.0  174.0  29.266667  49.896273   \n",
       "\n",
       "       skew       kurt  \n",
       "0  2.461261   6.426920  \n",
       "1  2.109187   4.233544  \n",
       "2  1.980445   3.166691  \n",
       "3  3.239211  11.284662  \n",
       "4  2.262283   4.936534  \n",
       "\n",
       "[5 rows x 24 columns]"
      ]
     },
     "execution_count": 47,
     "metadata": {},
     "output_type": "execute_result"
    }
   ],
   "source": [
    "train = merged.iloc[:len(train)]\n",
    "X = train\n",
    "train.head()"
   ]
  },
  {
   "cell_type": "code",
   "execution_count": 48,
   "metadata": {},
   "outputs": [
    {
     "data": {
      "text/html": [
       "<div>\n",
       "<style scoped>\n",
       "    .dataframe tbody tr th:only-of-type {\n",
       "        vertical-align: middle;\n",
       "    }\n",
       "\n",
       "    .dataframe tbody tr th {\n",
       "        vertical-align: top;\n",
       "    }\n",
       "\n",
       "    .dataframe thead th {\n",
       "        text-align: right;\n",
       "    }\n",
       "</style>\n",
       "<table border=\"1\" class=\"dataframe\">\n",
       "  <thead>\n",
       "    <tr style=\"text-align: right;\">\n",
       "      <th></th>\n",
       "      <th>DATE</th>\n",
       "      <th>INCIDENT_ID</th>\n",
       "      <th>MULTIPLE_OFFENSE</th>\n",
       "      <th>X_1</th>\n",
       "      <th>X_10</th>\n",
       "      <th>X_11</th>\n",
       "      <th>X_12</th>\n",
       "      <th>X_13</th>\n",
       "      <th>X_14</th>\n",
       "      <th>X_15</th>\n",
       "      <th>...</th>\n",
       "      <th>X_6</th>\n",
       "      <th>X_7</th>\n",
       "      <th>X_8</th>\n",
       "      <th>X_9</th>\n",
       "      <th>sum</th>\n",
       "      <th>max</th>\n",
       "      <th>mean</th>\n",
       "      <th>std</th>\n",
       "      <th>skew</th>\n",
       "      <th>kurt</th>\n",
       "    </tr>\n",
       "  </thead>\n",
       "  <tbody>\n",
       "    <tr>\n",
       "      <th>0</th>\n",
       "      <td>01-FEB-18</td>\n",
       "      <td>CR_195453</td>\n",
       "      <td>NaN</td>\n",
       "      <td>0</td>\n",
       "      <td>1</td>\n",
       "      <td>174</td>\n",
       "      <td>NaN</td>\n",
       "      <td>72</td>\n",
       "      <td>119</td>\n",
       "      <td>23</td>\n",
       "      <td>...</td>\n",
       "      <td>6</td>\n",
       "      <td>4</td>\n",
       "      <td>0</td>\n",
       "      <td>5</td>\n",
       "      <td>474.0</td>\n",
       "      <td>174.0</td>\n",
       "      <td>36.461538</td>\n",
       "      <td>54.085758</td>\n",
       "      <td>1.829582</td>\n",
       "      <td>2.759173</td>\n",
       "    </tr>\n",
       "    <tr>\n",
       "      <th>1</th>\n",
       "      <td>05-MAR-04</td>\n",
       "      <td>CR_103520</td>\n",
       "      <td>NaN</td>\n",
       "      <td>0</td>\n",
       "      <td>1</td>\n",
       "      <td>316</td>\n",
       "      <td>0.0</td>\n",
       "      <td>12</td>\n",
       "      <td>29</td>\n",
       "      <td>34</td>\n",
       "      <td>...</td>\n",
       "      <td>7</td>\n",
       "      <td>1</td>\n",
       "      <td>4</td>\n",
       "      <td>6</td>\n",
       "      <td>496.0</td>\n",
       "      <td>316.0</td>\n",
       "      <td>35.428571</td>\n",
       "      <td>82.449718</td>\n",
       "      <td>3.486586</td>\n",
       "      <td>12.597067</td>\n",
       "    </tr>\n",
       "    <tr>\n",
       "      <th>2</th>\n",
       "      <td>27-JAN-18</td>\n",
       "      <td>CR_196089</td>\n",
       "      <td>NaN</td>\n",
       "      <td>0</td>\n",
       "      <td>1</td>\n",
       "      <td>316</td>\n",
       "      <td>1.0</td>\n",
       "      <td>72</td>\n",
       "      <td>0</td>\n",
       "      <td>34</td>\n",
       "      <td>...</td>\n",
       "      <td>2</td>\n",
       "      <td>7</td>\n",
       "      <td>3</td>\n",
       "      <td>0</td>\n",
       "      <td>511.0</td>\n",
       "      <td>316.0</td>\n",
       "      <td>36.500000</td>\n",
       "      <td>83.153010</td>\n",
       "      <td>3.358914</td>\n",
       "      <td>11.816214</td>\n",
       "    </tr>\n",
       "    <tr>\n",
       "      <th>3</th>\n",
       "      <td>18-AUG-06</td>\n",
       "      <td>CR_112195</td>\n",
       "      <td>NaN</td>\n",
       "      <td>7</td>\n",
       "      <td>1</td>\n",
       "      <td>174</td>\n",
       "      <td>1.0</td>\n",
       "      <td>112</td>\n",
       "      <td>87</td>\n",
       "      <td>34</td>\n",
       "      <td>...</td>\n",
       "      <td>9</td>\n",
       "      <td>8</td>\n",
       "      <td>0</td>\n",
       "      <td>5</td>\n",
       "      <td>446.0</td>\n",
       "      <td>174.0</td>\n",
       "      <td>31.857143</td>\n",
       "      <td>53.765670</td>\n",
       "      <td>1.921840</td>\n",
       "      <td>2.972539</td>\n",
       "    </tr>\n",
       "    <tr>\n",
       "      <th>4</th>\n",
       "      <td>31-OCT-11</td>\n",
       "      <td>CR_149832</td>\n",
       "      <td>NaN</td>\n",
       "      <td>0</td>\n",
       "      <td>1</td>\n",
       "      <td>174</td>\n",
       "      <td>0.0</td>\n",
       "      <td>112</td>\n",
       "      <td>93</td>\n",
       "      <td>43</td>\n",
       "      <td>...</td>\n",
       "      <td>2</td>\n",
       "      <td>7</td>\n",
       "      <td>1</td>\n",
       "      <td>5</td>\n",
       "      <td>458.0</td>\n",
       "      <td>174.0</td>\n",
       "      <td>32.714286</td>\n",
       "      <td>54.463013</td>\n",
       "      <td>1.824188</td>\n",
       "      <td>2.541538</td>\n",
       "    </tr>\n",
       "  </tbody>\n",
       "</table>\n",
       "<p>5 rows × 24 columns</p>\n",
       "</div>"
      ],
      "text/plain": [
       "        DATE INCIDENT_ID  MULTIPLE_OFFENSE  X_1  X_10  X_11  X_12  X_13  X_14  \\\n",
       "0  01-FEB-18   CR_195453               NaN    0     1   174   NaN    72   119   \n",
       "1  05-MAR-04   CR_103520               NaN    0     1   316   0.0    12    29   \n",
       "2  27-JAN-18   CR_196089               NaN    0     1   316   1.0    72     0   \n",
       "3  18-AUG-06   CR_112195               NaN    7     1   174   1.0   112    87   \n",
       "4  31-OCT-11   CR_149832               NaN    0     1   174   0.0   112    93   \n",
       "\n",
       "   X_15  ...  X_6  X_7  X_8  X_9    sum    max       mean        std  \\\n",
       "0    23  ...    6    4    0    5  474.0  174.0  36.461538  54.085758   \n",
       "1    34  ...    7    1    4    6  496.0  316.0  35.428571  82.449718   \n",
       "2    34  ...    2    7    3    0  511.0  316.0  36.500000  83.153010   \n",
       "3    34  ...    9    8    0    5  446.0  174.0  31.857143  53.765670   \n",
       "4    43  ...    2    7    1    5  458.0  174.0  32.714286  54.463013   \n",
       "\n",
       "       skew       kurt  \n",
       "0  1.829582   2.759173  \n",
       "1  3.486586  12.597067  \n",
       "2  3.358914  11.816214  \n",
       "3  1.921840   2.972539  \n",
       "4  1.824188   2.541538  \n",
       "\n",
       "[5 rows x 24 columns]"
      ]
     },
     "execution_count": 48,
     "metadata": {},
     "output_type": "execute_result"
    }
   ],
   "source": [
    "test = merged.iloc[len(train):]\n",
    "test.head()"
   ]
  },
  {
   "cell_type": "code",
   "execution_count": 49,
   "metadata": {},
   "outputs": [],
   "source": [
    "test2=test.drop([\"MULTIPLE_OFFENSE\",\"INCIDENT_ID\",\"DATE\"],1)"
   ]
  },
  {
   "cell_type": "code",
   "execution_count": 50,
   "metadata": {},
   "outputs": [],
   "source": [
    "features=train.drop([\"INCIDENT_ID\",\"MULTIPLE_OFFENSE\",\"DATE\"],1)\n",
    "target=train[\"MULTIPLE_OFFENSE\"]"
   ]
  },
  {
   "cell_type": "code",
   "execution_count": 51,
   "metadata": {},
   "outputs": [
    {
     "data": {
      "text/html": [
       "<div>\n",
       "<style scoped>\n",
       "    .dataframe tbody tr th:only-of-type {\n",
       "        vertical-align: middle;\n",
       "    }\n",
       "\n",
       "    .dataframe tbody tr th {\n",
       "        vertical-align: top;\n",
       "    }\n",
       "\n",
       "    .dataframe thead th {\n",
       "        text-align: right;\n",
       "    }\n",
       "</style>\n",
       "<table border=\"1\" class=\"dataframe\">\n",
       "  <thead>\n",
       "    <tr style=\"text-align: right;\">\n",
       "      <th></th>\n",
       "      <th>X_1</th>\n",
       "      <th>X_10</th>\n",
       "      <th>X_11</th>\n",
       "      <th>X_12</th>\n",
       "      <th>X_13</th>\n",
       "      <th>X_14</th>\n",
       "      <th>X_15</th>\n",
       "      <th>X_2</th>\n",
       "      <th>X_3</th>\n",
       "      <th>X_4</th>\n",
       "      <th>...</th>\n",
       "      <th>X_6</th>\n",
       "      <th>X_7</th>\n",
       "      <th>X_8</th>\n",
       "      <th>X_9</th>\n",
       "      <th>sum</th>\n",
       "      <th>max</th>\n",
       "      <th>mean</th>\n",
       "      <th>std</th>\n",
       "      <th>skew</th>\n",
       "      <th>kurt</th>\n",
       "    </tr>\n",
       "  </thead>\n",
       "  <tbody>\n",
       "    <tr>\n",
       "      <th>0</th>\n",
       "      <td>0</td>\n",
       "      <td>1</td>\n",
       "      <td>174</td>\n",
       "      <td>1.0</td>\n",
       "      <td>92</td>\n",
       "      <td>29</td>\n",
       "      <td>36</td>\n",
       "      <td>36</td>\n",
       "      <td>34</td>\n",
       "      <td>2</td>\n",
       "      <td>...</td>\n",
       "      <td>5</td>\n",
       "      <td>6</td>\n",
       "      <td>1</td>\n",
       "      <td>6</td>\n",
       "      <td>418.0</td>\n",
       "      <td>174.0</td>\n",
       "      <td>27.866667</td>\n",
       "      <td>47.621824</td>\n",
       "      <td>2.461261</td>\n",
       "      <td>6.426920</td>\n",
       "    </tr>\n",
       "    <tr>\n",
       "      <th>1</th>\n",
       "      <td>1</td>\n",
       "      <td>1</td>\n",
       "      <td>236</td>\n",
       "      <td>1.0</td>\n",
       "      <td>103</td>\n",
       "      <td>142</td>\n",
       "      <td>34</td>\n",
       "      <td>37</td>\n",
       "      <td>37</td>\n",
       "      <td>0</td>\n",
       "      <td>...</td>\n",
       "      <td>11</td>\n",
       "      <td>17</td>\n",
       "      <td>1</td>\n",
       "      <td>6</td>\n",
       "      <td>622.0</td>\n",
       "      <td>236.0</td>\n",
       "      <td>41.466667</td>\n",
       "      <td>68.131036</td>\n",
       "      <td>2.109187</td>\n",
       "      <td>4.233544</td>\n",
       "    </tr>\n",
       "    <tr>\n",
       "      <th>2</th>\n",
       "      <td>0</td>\n",
       "      <td>1</td>\n",
       "      <td>174</td>\n",
       "      <td>1.0</td>\n",
       "      <td>110</td>\n",
       "      <td>93</td>\n",
       "      <td>34</td>\n",
       "      <td>3</td>\n",
       "      <td>2</td>\n",
       "      <td>3</td>\n",
       "      <td>...</td>\n",
       "      <td>1</td>\n",
       "      <td>0</td>\n",
       "      <td>2</td>\n",
       "      <td>3</td>\n",
       "      <td>430.0</td>\n",
       "      <td>174.0</td>\n",
       "      <td>28.666667</td>\n",
       "      <td>53.391635</td>\n",
       "      <td>1.980445</td>\n",
       "      <td>3.166691</td>\n",
       "    </tr>\n",
       "    <tr>\n",
       "      <th>3</th>\n",
       "      <td>0</td>\n",
       "      <td>1</td>\n",
       "      <td>249</td>\n",
       "      <td>1.0</td>\n",
       "      <td>72</td>\n",
       "      <td>29</td>\n",
       "      <td>34</td>\n",
       "      <td>33</td>\n",
       "      <td>32</td>\n",
       "      <td>2</td>\n",
       "      <td>...</td>\n",
       "      <td>7</td>\n",
       "      <td>1</td>\n",
       "      <td>1</td>\n",
       "      <td>6</td>\n",
       "      <td>464.0</td>\n",
       "      <td>249.0</td>\n",
       "      <td>30.933333</td>\n",
       "      <td>63.808269</td>\n",
       "      <td>3.239211</td>\n",
       "      <td>11.284662</td>\n",
       "    </tr>\n",
       "    <tr>\n",
       "      <th>4</th>\n",
       "      <td>0</td>\n",
       "      <td>1</td>\n",
       "      <td>174</td>\n",
       "      <td>0.0</td>\n",
       "      <td>112</td>\n",
       "      <td>29</td>\n",
       "      <td>43</td>\n",
       "      <td>33</td>\n",
       "      <td>32</td>\n",
       "      <td>2</td>\n",
       "      <td>...</td>\n",
       "      <td>8</td>\n",
       "      <td>3</td>\n",
       "      <td>0</td>\n",
       "      <td>5</td>\n",
       "      <td>439.0</td>\n",
       "      <td>174.0</td>\n",
       "      <td>29.266667</td>\n",
       "      <td>49.896273</td>\n",
       "      <td>2.262283</td>\n",
       "      <td>4.936534</td>\n",
       "    </tr>\n",
       "  </tbody>\n",
       "</table>\n",
       "<p>5 rows × 21 columns</p>\n",
       "</div>"
      ],
      "text/plain": [
       "   X_1  X_10  X_11  X_12  X_13  X_14  X_15  X_2  X_3  X_4  ...  X_6  X_7  X_8  \\\n",
       "0    0     1   174   1.0    92    29    36   36   34    2  ...    5    6    1   \n",
       "1    1     1   236   1.0   103   142    34   37   37    0  ...   11   17    1   \n",
       "2    0     1   174   1.0   110    93    34    3    2    3  ...    1    0    2   \n",
       "3    0     1   249   1.0    72    29    34   33   32    2  ...    7    1    1   \n",
       "4    0     1   174   0.0   112    29    43   33   32    2  ...    8    3    0   \n",
       "\n",
       "   X_9    sum    max       mean        std      skew       kurt  \n",
       "0    6  418.0  174.0  27.866667  47.621824  2.461261   6.426920  \n",
       "1    6  622.0  236.0  41.466667  68.131036  2.109187   4.233544  \n",
       "2    3  430.0  174.0  28.666667  53.391635  1.980445   3.166691  \n",
       "3    6  464.0  249.0  30.933333  63.808269  3.239211  11.284662  \n",
       "4    5  439.0  174.0  29.266667  49.896273  2.262283   4.936534  \n",
       "\n",
       "[5 rows x 21 columns]"
      ]
     },
     "execution_count": 51,
     "metadata": {},
     "output_type": "execute_result"
    }
   ],
   "source": [
    "features.head()"
   ]
  },
  {
   "cell_type": "code",
   "execution_count": 52,
   "metadata": {},
   "outputs": [
    {
     "data": {
      "text/plain": [
       "X_1     0\n",
       "X_10    0\n",
       "X_11    0\n",
       "X_12    0\n",
       "X_13    0\n",
       "X_14    0\n",
       "X_15    0\n",
       "X_2     0\n",
       "X_3     0\n",
       "X_4     0\n",
       "X_5     0\n",
       "X_6     0\n",
       "X_7     0\n",
       "X_8     0\n",
       "X_9     0\n",
       "sum     0\n",
       "max     0\n",
       "mean    0\n",
       "std     0\n",
       "skew    0\n",
       "kurt    0\n",
       "dtype: int64"
      ]
     },
     "execution_count": 52,
     "metadata": {},
     "output_type": "execute_result"
    }
   ],
   "source": [
    "features.isnull().sum()"
   ]
  },
  {
   "cell_type": "code",
   "execution_count": 53,
   "metadata": {},
   "outputs": [],
   "source": [
    "from sklearn.preprocessing import MaxAbsScaler\n",
    "scaler = MaxAbsScaler()\n",
    "scaler.fit(features)\n",
    "features = scaler.transform(features)\n",
    "test2 = scaler.transform(test2)"
   ]
  },
  {
   "cell_type": "code",
   "execution_count": 54,
   "metadata": {},
   "outputs": [],
   "source": [
    "features=pd.DataFrame(features)\n",
    "test2=pd.DataFrame(test2)"
   ]
  },
  {
   "cell_type": "code",
   "execution_count": 55,
   "metadata": {},
   "outputs": [
    {
     "name": "stdout",
     "output_type": "stream",
     "text": [
      "[ 5. 10.]\n"
     ]
    }
   ],
   "source": [
    "\n",
    "import numpy as np\n",
    "print(np.linspace(start = 5, stop = 10, num = 2))\n"
   ]
  },
  {
   "cell_type": "code",
   "execution_count": 56,
   "metadata": {},
   "outputs": [
    {
     "name": "stdout",
     "output_type": "stream",
     "text": [
      "{'n_estimators': [10, 15], 'max_features': ['auto', 'log2'], 'max_depth': [5, 10, None], 'min_samples_split': [2, 5, 10], 'min_samples_leaf': [1, 2, 4], 'bootstrap': [True, False]}\n"
     ]
    }
   ],
   "source": [
    "from sklearn.model_selection import RandomizedSearchCV\n",
    "# Number of trees in random forest\n",
    "n_estimators = [int(x) for x in np.linspace(start = 10 , stop = 15, num = 2)]   # returns evenly spaced 10 numbers\n",
    "# Number of features to consider at every split\n",
    "max_features = ['auto', 'log2']\n",
    "# Maximum number of levels in tree\n",
    "max_depth = [int(x) for x in np.linspace(5, 10, num = 2)]  # returns evenly spaced numbers can be changed to any\n",
    "max_depth.append(None)\n",
    "# Minimum number of samples required to split a node\n",
    "min_samples_split = [2, 5, 10]\n",
    "# Minimum number of samples required at each leaf node\n",
    "min_samples_leaf = [1, 2, 4]\n",
    "# Method of selecting samples for training each tree\n",
    "bootstrap = [True, False]\n",
    "\n",
    "# Create the random grid\n",
    "random_grid = {'n_estimators': n_estimators,\n",
    "               'max_features': max_features,\n",
    "               'max_depth': max_depth,\n",
    "               'min_samples_split': min_samples_split,\n",
    "               'min_samples_leaf': min_samples_leaf,\n",
    "               'bootstrap': bootstrap}\n",
    "\n",
    "print(random_grid)"
   ]
  },
  {
   "cell_type": "code",
   "execution_count": 57,
   "metadata": {},
   "outputs": [
    {
     "name": "stdout",
     "output_type": "stream",
     "text": [
      "Fitting 3 folds for each of 5 candidates, totalling 15 fits\n"
     ]
    },
    {
     "name": "stderr",
     "output_type": "stream",
     "text": [
      "[Parallel(n_jobs=-1)]: Using backend LokyBackend with 8 concurrent workers.\n",
      "[Parallel(n_jobs=-1)]: Done   8 out of  15 | elapsed:    5.4s remaining:    4.7s\n",
      "[Parallel(n_jobs=-1)]: Done  15 out of  15 | elapsed:    5.6s finished\n"
     ]
    }
   ],
   "source": [
    "from sklearn.ensemble import RandomForestClassifier\n",
    "\n",
    "rf = RandomForestClassifier(random_state = 100)\n",
    "# Use the random grid to search for best hyperparameters\n",
    "\n",
    "# Random search of parameters, using 3 fold cross validation, \n",
    "rf_random = RandomizedSearchCV(estimator=rf, param_distributions=random_grid,\n",
    "                              n_iter = 5,  \n",
    "                              cv = 3, verbose=2, random_state=42, n_jobs=-1,\n",
    "                              return_train_score=True)\n",
    "\n",
    "# Fit the random search model\n",
    "rf_random.fit(features,target);"
   ]
  },
  {
   "cell_type": "code",
   "execution_count": null,
   "metadata": {},
   "outputs": [],
   "source": []
  },
  {
   "cell_type": "code",
   "execution_count": null,
   "metadata": {},
   "outputs": [],
   "source": []
  },
  {
   "cell_type": "code",
   "execution_count": null,
   "metadata": {},
   "outputs": [],
   "source": []
  },
  {
   "cell_type": "code",
   "execution_count": null,
   "metadata": {},
   "outputs": [],
   "source": []
  },
  {
   "cell_type": "code",
   "execution_count": null,
   "metadata": {},
   "outputs": [],
   "source": []
  },
  {
   "cell_type": "code",
   "execution_count": null,
   "metadata": {},
   "outputs": [],
   "source": []
  },
  {
   "cell_type": "code",
   "execution_count": null,
   "metadata": {},
   "outputs": [],
   "source": []
  },
  {
   "cell_type": "code",
   "execution_count": null,
   "metadata": {},
   "outputs": [],
   "source": []
  },
  {
   "cell_type": "code",
   "execution_count": 58,
   "metadata": {},
   "outputs": [],
   "source": [
    "\n",
    "param = {\n",
    "    'bagging_freq': 5,\n",
    "    'bagging_fraction': 0.33,\n",
    "    'boost_from_average':'false',\n",
    "    'boost': 'gbdt',\n",
    "    'feature_fraction': 0.05,\n",
    "    'learning_rate': 0.01,\n",
    "    'max_depth': -1,\n",
    "    'metric':'auc',\n",
    "    'min_data_in_leaf': 80,\n",
    "    'min_sum_hessian_in_leaf': 10.0,\n",
    "    'num_leaves': 13,\n",
    "    'num_threads': 12,\n",
    "    'tree_learner': 'serial',\n",
    "    'objective': 'binary',\n",
    "    'verbosity': 1\n",
    "}"
   ]
  },
  {
   "cell_type": "code",
   "execution_count": 60,
   "metadata": {},
   "outputs": [],
   "source": [
    "#!pip3 install lightgbm"
   ]
  },
  {
   "cell_type": "code",
   "execution_count": 61,
   "metadata": {},
   "outputs": [],
   "source": [
    "\n",
    "import lightgbm as lgb\n",
    "from sklearn.metrics import mean_squared_error\n",
    "from sklearn.metrics import roc_auc_score\n",
    "from sklearn.model_selection import StratifiedKFold"
   ]
  },
  {
   "cell_type": "code",
   "execution_count": 62,
   "metadata": {},
   "outputs": [],
   "source": [
    "\n",
    "num_round = 100000\n",
    "folds = StratifiedKFold(n_splits=15, shuffle=False, random_state=100)\n",
    "oof = np.zeros(len(features))\n",
    "predictions = np.zeros(len(test2))"
   ]
  },
  {
   "cell_type": "code",
   "execution_count": 63,
   "metadata": {},
   "outputs": [
    {
     "name": "stdout",
     "output_type": "stream",
     "text": [
      "Fold 0\n",
      "Training until validation scores don't improve for 2500 rounds\n",
      "[1000]\ttraining's auc: 0.99852\tvalid_1's auc: 0.995559\n",
      "[2000]\ttraining's auc: 0.999596\tvalid_1's auc: 0.996217\n",
      "[3000]\ttraining's auc: 0.999785\tvalid_1's auc: 0.996784\n",
      "[4000]\ttraining's auc: 0.999853\tvalid_1's auc: 0.996875\n",
      "[5000]\ttraining's auc: 0.999882\tvalid_1's auc: 0.997113\n",
      "[6000]\ttraining's auc: 0.999898\tvalid_1's auc: 0.997167\n",
      "[7000]\ttraining's auc: 0.99991\tvalid_1's auc: 0.997186\n",
      "[8000]\ttraining's auc: 0.99992\tvalid_1's auc: 0.997177\n",
      "Early stopping, best iteration is:\n",
      "[5673]\ttraining's auc: 0.999895\tvalid_1's auc: 0.997231\n",
      "Fold 1\n",
      "Training until validation scores don't improve for 2500 rounds\n",
      "[1000]\ttraining's auc: 0.998146\tvalid_1's auc: 0.996857\n",
      "[2000]\ttraining's auc: 0.999385\tvalid_1's auc: 0.998766\n",
      "[3000]\ttraining's auc: 0.999632\tvalid_1's auc: 0.999342\n",
      "[4000]\ttraining's auc: 0.999725\tvalid_1's auc: 0.999543\n",
      "[5000]\ttraining's auc: 0.999769\tvalid_1's auc: 0.999644\n",
      "[6000]\ttraining's auc: 0.999793\tvalid_1's auc: 0.999653\n",
      "[7000]\ttraining's auc: 0.999806\tvalid_1's auc: 0.999662\n",
      "[8000]\ttraining's auc: 0.999821\tvalid_1's auc: 0.99968\n",
      "[9000]\ttraining's auc: 0.999834\tvalid_1's auc: 0.99968\n",
      "[10000]\ttraining's auc: 0.999848\tvalid_1's auc: 0.999698\n",
      "[11000]\ttraining's auc: 0.999856\tvalid_1's auc: 0.999698\n",
      "[12000]\ttraining's auc: 0.99986\tvalid_1's auc: 0.99968\n",
      "Early stopping, best iteration is:\n",
      "[9855]\ttraining's auc: 0.999846\tvalid_1's auc: 0.999708\n",
      "Fold 2\n",
      "Training until validation scores don't improve for 2500 rounds\n",
      "[1000]\ttraining's auc: 0.998138\tvalid_1's auc: 0.993951\n",
      "[2000]\ttraining's auc: 0.999383\tvalid_1's auc: 0.997414\n",
      "[3000]\ttraining's auc: 0.999644\tvalid_1's auc: 0.998173\n",
      "[4000]\ttraining's auc: 0.999733\tvalid_1's auc: 0.998209\n",
      "[5000]\ttraining's auc: 0.999776\tvalid_1's auc: 0.998282\n",
      "[6000]\ttraining's auc: 0.999797\tvalid_1's auc: 0.998264\n",
      "[7000]\ttraining's auc: 0.999809\tvalid_1's auc: 0.998218\n",
      "[8000]\ttraining's auc: 0.999823\tvalid_1's auc: 0.998246\n",
      "Early stopping, best iteration is:\n",
      "[5709]\ttraining's auc: 0.999796\tvalid_1's auc: 0.998337\n",
      "Fold 3\n",
      "Training until validation scores don't improve for 2500 rounds\n",
      "[1000]\ttraining's auc: 0.998194\tvalid_1's auc: 0.998081\n",
      "[2000]\ttraining's auc: 0.999411\tvalid_1's auc: 0.99936\n",
      "[3000]\ttraining's auc: 0.999643\tvalid_1's auc: 0.999583\n",
      "[4000]\ttraining's auc: 0.999717\tvalid_1's auc: 0.999648\n",
      "[5000]\ttraining's auc: 0.999767\tvalid_1's auc: 0.999703\n",
      "[6000]\ttraining's auc: 0.99978\tvalid_1's auc: 0.999694\n",
      "[7000]\ttraining's auc: 0.999811\tvalid_1's auc: 0.999722\n",
      "[8000]\ttraining's auc: 0.999816\tvalid_1's auc: 0.99974\n",
      "[9000]\ttraining's auc: 0.999835\tvalid_1's auc: 0.999777\n",
      "[10000]\ttraining's auc: 0.999841\tvalid_1's auc: 0.999768\n",
      "[11000]\ttraining's auc: 0.999843\tvalid_1's auc: 0.999759\n",
      "Early stopping, best iteration is:\n",
      "[8791]\ttraining's auc: 0.999828\tvalid_1's auc: 0.999777\n",
      "Fold 4\n",
      "Training until validation scores don't improve for 2500 rounds\n",
      "[1000]\ttraining's auc: 0.998185\tvalid_1's auc: 0.998887\n",
      "[2000]\ttraining's auc: 0.999393\tvalid_1's auc: 0.999434\n",
      "[3000]\ttraining's auc: 0.999648\tvalid_1's auc: 0.999555\n",
      "[4000]\ttraining's auc: 0.999723\tvalid_1's auc: 0.999611\n",
      "[5000]\ttraining's auc: 0.999777\tvalid_1's auc: 0.999601\n",
      "[6000]\ttraining's auc: 0.99979\tvalid_1's auc: 0.999546\n",
      "Early stopping, best iteration is:\n",
      "[4383]\ttraining's auc: 0.999756\tvalid_1's auc: 0.999629\n",
      "Fold 5\n",
      "Training until validation scores don't improve for 2500 rounds\n",
      "[1000]\ttraining's auc: 0.99822\tvalid_1's auc: 0.999073\n",
      "[2000]\ttraining's auc: 0.999375\tvalid_1's auc: 0.999703\n",
      "[3000]\ttraining's auc: 0.999625\tvalid_1's auc: 0.999852\n",
      "[4000]\ttraining's auc: 0.999705\tvalid_1's auc: 0.999861\n",
      "[5000]\ttraining's auc: 0.999767\tvalid_1's auc: 0.999898\n",
      "[6000]\ttraining's auc: 0.99978\tvalid_1's auc: 0.999917\n",
      "[7000]\ttraining's auc: 0.999811\tvalid_1's auc: 0.999935\n",
      "[8000]\ttraining's auc: 0.999817\tvalid_1's auc: 0.999972\n",
      "[9000]\ttraining's auc: 0.999842\tvalid_1's auc: 0.999954\n",
      "[10000]\ttraining's auc: 0.999845\tvalid_1's auc: 0.999981\n",
      "[11000]\ttraining's auc: 0.999848\tvalid_1's auc: 0.999972\n",
      "Early stopping, best iteration is:\n",
      "[9153]\ttraining's auc: 0.999843\tvalid_1's auc: 0.999981\n",
      "Fold 6\n",
      "Training until validation scores don't improve for 2500 rounds\n",
      "[1000]\ttraining's auc: 0.998388\tvalid_1's auc: 0.996495\n",
      "[2000]\ttraining's auc: 0.999389\tvalid_1's auc: 0.999314\n",
      "[3000]\ttraining's auc: 0.999629\tvalid_1's auc: 0.999694\n",
      "[4000]\ttraining's auc: 0.99971\tvalid_1's auc: 0.999713\n",
      "[5000]\ttraining's auc: 0.999774\tvalid_1's auc: 0.999685\n",
      "[6000]\ttraining's auc: 0.999793\tvalid_1's auc: 0.999638\n",
      "Early stopping, best iteration is:\n",
      "[3553]\ttraining's auc: 0.999686\tvalid_1's auc: 0.99974\n",
      "Fold 7\n",
      "Training until validation scores don't improve for 2500 rounds\n",
      "[1000]\ttraining's auc: 0.998174\tvalid_1's auc: 0.997543\n",
      "[2000]\ttraining's auc: 0.99938\tvalid_1's auc: 0.999036\n",
      "[3000]\ttraining's auc: 0.999626\tvalid_1's auc: 0.999527\n",
      "[4000]\ttraining's auc: 0.999709\tvalid_1's auc: 0.999573\n",
      "[5000]\ttraining's auc: 0.99977\tvalid_1's auc: 0.999601\n",
      "[6000]\ttraining's auc: 0.999782\tvalid_1's auc: 0.999611\n",
      "[7000]\ttraining's auc: 0.999812\tvalid_1's auc: 0.999583\n",
      "[8000]\ttraining's auc: 0.999819\tvalid_1's auc: 0.999583\n",
      "Early stopping, best iteration is:\n",
      "[5656]\ttraining's auc: 0.999775\tvalid_1's auc: 0.999648\n",
      "Fold 8\n",
      "Training until validation scores don't improve for 2500 rounds\n",
      "[1000]\ttraining's auc: 0.998199\tvalid_1's auc: 0.997719\n",
      "[2000]\ttraining's auc: 0.999395\tvalid_1's auc: 0.99924\n",
      "[3000]\ttraining's auc: 0.99964\tvalid_1's auc: 0.999601\n",
      "[4000]\ttraining's auc: 0.999719\tvalid_1's auc: 0.99974\n",
      "[5000]\ttraining's auc: 0.999772\tvalid_1's auc: 0.999759\n",
      "[6000]\ttraining's auc: 0.999787\tvalid_1's auc: 0.999805\n",
      "[7000]\ttraining's auc: 0.999812\tvalid_1's auc: 0.999815\n",
      "[8000]\ttraining's auc: 0.999818\tvalid_1's auc: 0.999824\n",
      "Early stopping, best iteration is:\n",
      "[6414]\ttraining's auc: 0.999797\tvalid_1's auc: 0.999824\n",
      "Fold 9\n",
      "Training until validation scores don't improve for 2500 rounds\n",
      "[1000]\ttraining's auc: 0.998281\tvalid_1's auc: 0.998628\n",
      "[2000]\ttraining's auc: 0.999379\tvalid_1's auc: 0.999638\n",
      "[3000]\ttraining's auc: 0.999625\tvalid_1's auc: 0.999768\n",
      "[4000]\ttraining's auc: 0.999708\tvalid_1's auc: 0.999768\n",
      "[5000]\ttraining's auc: 0.999764\tvalid_1's auc: 0.999787\n",
      "[6000]\ttraining's auc: 0.99978\tvalid_1's auc: 0.999777\n",
      "Early stopping, best iteration is:\n",
      "[3857]\ttraining's auc: 0.999705\tvalid_1's auc: 0.999796\n",
      "Fold 10\n",
      "Training until validation scores don't improve for 2500 rounds\n",
      "[1000]\ttraining's auc: 0.998296\tvalid_1's auc: 0.996885\n",
      "[2000]\ttraining's auc: 0.999434\tvalid_1's auc: 0.998146\n",
      "[3000]\ttraining's auc: 0.999666\tvalid_1's auc: 0.998498\n",
      "[4000]\ttraining's auc: 0.999744\tvalid_1's auc: 0.998563\n",
      "[5000]\ttraining's auc: 0.999793\tvalid_1's auc: 0.998906\n",
      "[6000]\ttraining's auc: 0.999804\tvalid_1's auc: 0.998943\n",
      "[7000]\ttraining's auc: 0.999827\tvalid_1's auc: 0.998999\n",
      "[8000]\ttraining's auc: 0.999829\tvalid_1's auc: 0.998915\n",
      "[9000]\ttraining's auc: 0.999851\tvalid_1's auc: 0.999082\n",
      "[10000]\ttraining's auc: 0.999851\tvalid_1's auc: 0.998897\n",
      "[11000]\ttraining's auc: 0.999857\tvalid_1's auc: 0.998971\n",
      "Early stopping, best iteration is:\n",
      "[8997]\ttraining's auc: 0.999851\tvalid_1's auc: 0.999082\n",
      "Fold 11\n",
      "Training until validation scores don't improve for 2500 rounds\n",
      "[1000]\ttraining's auc: 0.99822\tvalid_1's auc: 0.998192\n",
      "[2000]\ttraining's auc: 0.999381\tvalid_1's auc: 0.999286\n",
      "[3000]\ttraining's auc: 0.999629\tvalid_1's auc: 0.999434\n",
      "[4000]\ttraining's auc: 0.999711\tvalid_1's auc: 0.999573\n",
      "[5000]\ttraining's auc: 0.999755\tvalid_1's auc: 0.999573\n",
      "[6000]\ttraining's auc: 0.999779\tvalid_1's auc: 0.999583\n",
      "Early stopping, best iteration is:\n",
      "[4495]\ttraining's auc: 0.999742\tvalid_1's auc: 0.999629\n",
      "Fold 12\n",
      "Training until validation scores don't improve for 2500 rounds\n",
      "[1000]\ttraining's auc: 0.998399\tvalid_1's auc: 0.998442\n",
      "[2000]\ttraining's auc: 0.999401\tvalid_1's auc: 0.999481\n",
      "[3000]\ttraining's auc: 0.999633\tvalid_1's auc: 0.999685\n",
      "[4000]\ttraining's auc: 0.999706\tvalid_1's auc: 0.999731\n",
      "[5000]\ttraining's auc: 0.999748\tvalid_1's auc: 0.999759\n",
      "[6000]\ttraining's auc: 0.999771\tvalid_1's auc: 0.999824\n",
      "[7000]\ttraining's auc: 0.999789\tvalid_1's auc: 0.999833\n",
      "[8000]\ttraining's auc: 0.9998\tvalid_1's auc: 0.999842\n",
      "[9000]\ttraining's auc: 0.999815\tvalid_1's auc: 0.999852\n",
      "[10000]\ttraining's auc: 0.999821\tvalid_1's auc: 0.999842\n"
     ]
    },
    {
     "name": "stdout",
     "output_type": "stream",
     "text": [
      "[11000]\ttraining's auc: 0.999827\tvalid_1's auc: 0.99987\n",
      "[12000]\ttraining's auc: 0.999837\tvalid_1's auc: 0.999879\n",
      "[13000]\ttraining's auc: 0.999838\tvalid_1's auc: 0.999898\n",
      "Early stopping, best iteration is:\n",
      "[11289]\ttraining's auc: 0.999833\tvalid_1's auc: 0.999898\n",
      "Fold 13\n",
      "Training until validation scores don't improve for 2500 rounds\n",
      "[1000]\ttraining's auc: 0.998308\tvalid_1's auc: 0.997589\n",
      "[2000]\ttraining's auc: 0.999372\tvalid_1's auc: 0.99923\n",
      "[3000]\ttraining's auc: 0.999617\tvalid_1's auc: 0.999666\n",
      "[4000]\ttraining's auc: 0.999696\tvalid_1's auc: 0.999805\n",
      "[5000]\ttraining's auc: 0.999748\tvalid_1's auc: 0.999879\n",
      "[6000]\ttraining's auc: 0.999772\tvalid_1's auc: 0.999944\n",
      "[7000]\ttraining's auc: 0.99979\tvalid_1's auc: 0.999954\n",
      "[8000]\ttraining's auc: 0.999804\tvalid_1's auc: 0.999963\n",
      "[9000]\ttraining's auc: 0.999822\tvalid_1's auc: 0.999981\n",
      "[10000]\ttraining's auc: 0.999827\tvalid_1's auc: 0.999991\n",
      "[11000]\ttraining's auc: 0.999831\tvalid_1's auc: 0.999991\n",
      "[12000]\ttraining's auc: 0.999843\tvalid_1's auc: 0.999991\n",
      "[13000]\ttraining's auc: 0.999847\tvalid_1's auc: 1\n",
      "Early stopping, best iteration is:\n",
      "[10632]\ttraining's auc: 0.999828\tvalid_1's auc: 1\n",
      "Fold 14\n",
      "Training until validation scores don't improve for 2500 rounds\n",
      "[1000]\ttraining's auc: 0.998405\tvalid_1's auc: 0.997311\n",
      "[2000]\ttraining's auc: 0.999424\tvalid_1's auc: 0.998841\n",
      "[3000]\ttraining's auc: 0.999643\tvalid_1's auc: 0.999295\n",
      "[4000]\ttraining's auc: 0.999719\tvalid_1's auc: 0.999388\n",
      "[5000]\ttraining's auc: 0.999762\tvalid_1's auc: 0.999462\n",
      "[6000]\ttraining's auc: 0.999781\tvalid_1's auc: 0.999434\n",
      "[7000]\ttraining's auc: 0.999796\tvalid_1's auc: 0.999397\n",
      "Early stopping, best iteration is:\n",
      "[4619]\ttraining's auc: 0.999749\tvalid_1's auc: 0.999481\n",
      "CV score: 0.99945 \n"
     ]
    }
   ],
   "source": [
    "for fold_, (trn_idx, val_idx) in enumerate(folds.split(features.values, target.values)):\n",
    "    print(\"Fold {}\".format(fold_))\n",
    "    trn_data = lgb.Dataset(features.iloc[trn_idx], label=target.iloc[trn_idx])\n",
    "    val_data = lgb.Dataset(features.iloc[val_idx], label=target.iloc[val_idx])\n",
    "    clf = lgb.train(param, trn_data, num_round, valid_sets = [trn_data, val_data], verbose_eval=1000, early_stopping_rounds = 2500)\n",
    "    oof[val_idx] = clf.predict(features.iloc[val_idx], num_iteration=clf.best_iteration)\n",
    "    predictions += clf.predict(test2, num_iteration=clf.best_iteration) / folds.n_splits\n",
    "print(\"CV score: {:<8.5f}\".format(roc_auc_score(target, oof)))"
   ]
  },
  {
   "cell_type": "code",
   "execution_count": null,
   "metadata": {},
   "outputs": [],
   "source": [
    "INCIDENT_ID\tMULTIPLE_OFFENSE\n"
   ]
  },
  {
   "cell_type": "code",
   "execution_count": 67,
   "metadata": {},
   "outputs": [],
   "source": [
    "submission = pd.DataFrame({\"INCIDENT_ID\": test.INCIDENT_ID.values})\n",
    "submission[\"MULTIPLE_OFFENSE1\"] = predictions\n",
    "#submission.to_csv(\"submission.csv\", index=False)"
   ]
  },
  {
   "cell_type": "code",
   "execution_count": 68,
   "metadata": {},
   "outputs": [
    {
     "data": {
      "text/html": [
       "<div>\n",
       "<style scoped>\n",
       "    .dataframe tbody tr th:only-of-type {\n",
       "        vertical-align: middle;\n",
       "    }\n",
       "\n",
       "    .dataframe tbody tr th {\n",
       "        vertical-align: top;\n",
       "    }\n",
       "\n",
       "    .dataframe thead th {\n",
       "        text-align: right;\n",
       "    }\n",
       "</style>\n",
       "<table border=\"1\" class=\"dataframe\">\n",
       "  <thead>\n",
       "    <tr style=\"text-align: right;\">\n",
       "      <th></th>\n",
       "      <th>INCIDENT_ID</th>\n",
       "      <th>MULTIPLE_OFFENSE1</th>\n",
       "    </tr>\n",
       "  </thead>\n",
       "  <tbody>\n",
       "    <tr>\n",
       "      <th>0</th>\n",
       "      <td>CR_195453</td>\n",
       "      <td>0.998614</td>\n",
       "    </tr>\n",
       "    <tr>\n",
       "      <th>1</th>\n",
       "      <td>CR_103520</td>\n",
       "      <td>0.999928</td>\n",
       "    </tr>\n",
       "    <tr>\n",
       "      <th>2</th>\n",
       "      <td>CR_196089</td>\n",
       "      <td>0.999783</td>\n",
       "    </tr>\n",
       "    <tr>\n",
       "      <th>3</th>\n",
       "      <td>CR_112195</td>\n",
       "      <td>0.998977</td>\n",
       "    </tr>\n",
       "    <tr>\n",
       "      <th>4</th>\n",
       "      <td>CR_149832</td>\n",
       "      <td>0.999870</td>\n",
       "    </tr>\n",
       "  </tbody>\n",
       "</table>\n",
       "</div>"
      ],
      "text/plain": [
       "  INCIDENT_ID  MULTIPLE_OFFENSE1\n",
       "0   CR_195453           0.998614\n",
       "1   CR_103520           0.999928\n",
       "2   CR_196089           0.999783\n",
       "3   CR_112195           0.998977\n",
       "4   CR_149832           0.999870"
      ]
     },
     "execution_count": 68,
     "metadata": {},
     "output_type": "execute_result"
    }
   ],
   "source": [
    "submission.head()"
   ]
  },
  {
   "cell_type": "code",
   "execution_count": 116,
   "metadata": {},
   "outputs": [],
   "source": [
    "def chang(dff):\n",
    "    if(dff[\"MULTIPLE_OFFENSE1\"]>0.87):\n",
    "        return(1)\n",
    "    else:\n",
    "        return(0)"
   ]
  },
  {
   "cell_type": "code",
   "execution_count": 117,
   "metadata": {},
   "outputs": [],
   "source": [
    "submission[\"MULTIPLE_OFFENSE\"]=submission.apply(chang,axis=1)"
   ]
  },
  {
   "cell_type": "code",
   "execution_count": 118,
   "metadata": {},
   "outputs": [
    {
     "data": {
      "text/plain": [
       "1    15067\n",
       "0      836\n",
       "Name: MULTIPLE_OFFENSE, dtype: int64"
      ]
     },
     "execution_count": 118,
     "metadata": {},
     "output_type": "execute_result"
    }
   ],
   "source": [
    "submission[\"MULTIPLE_OFFENSE\"].value_counts()"
   ]
  },
  {
   "cell_type": "code",
   "execution_count": 119,
   "metadata": {},
   "outputs": [],
   "source": [
    "sub=submission[[\"INCIDENT_ID\",\"MULTIPLE_OFFENSE\"]]"
   ]
  },
  {
   "cell_type": "code",
   "execution_count": 120,
   "metadata": {},
   "outputs": [],
   "source": [
    "sub.to_csv(\"submission10.csv\", index=False)"
   ]
  },
  {
   "cell_type": "code",
   "execution_count": null,
   "metadata": {},
   "outputs": [],
   "source": []
  }
 ],
 "metadata": {
  "kernelspec": {
   "display_name": "Python 3",
   "language": "python",
   "name": "python3"
  },
  "language_info": {
   "codemirror_mode": {
    "name": "ipython",
    "version": 3
   },
   "file_extension": ".py",
   "mimetype": "text/x-python",
   "name": "python",
   "nbconvert_exporter": "python",
   "pygments_lexer": "ipython3",
   "version": "3.7.6"
  }
 },
 "nbformat": 4,
 "nbformat_minor": 2
}
